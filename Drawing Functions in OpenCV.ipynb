{
 "cells": [
  {
   "cell_type": "code",
   "execution_count": 1,
   "metadata": {
    "collapsed": false
   },
   "outputs": [],
   "source": [
    "#Drawing Line\n",
    "import numpy as np\n",
    "import cv2\n",
    "\n",
    "img = np.zeros((512, 512, 3), np.uint8)\n",
    "img = cv2.line(img, (0, 0), (511, 511), (255, 0, 0), 5)\n",
    "cv2.imshow('line', img)\n",
    "cv2.waitKey(0)\n",
    "cv2.destroyAllWindows()"
   ]
  },
  {
   "cell_type": "code",
   "execution_count": 2,
   "metadata": {
    "collapsed": false
   },
   "outputs": [],
   "source": [
    "import numpy as np\n",
    "import cv2\n",
    "img = np.zeros((512, 512, 3), np.uint8)\n",
    "img = cv2.rectangle(img, (384, 0), (510, 128), (0, 255, 0), 3)\n",
    "cv2.imshow('rectangle', img)\n",
    "cv2.waitKey(0)\n",
    "cv2.destroyAllWindows()"
   ]
  },
  {
   "cell_type": "code",
   "execution_count": 3,
   "metadata": {
    "collapsed": true
   },
   "outputs": [],
   "source": [
    "import numpy as np\n",
    "import cv2\n",
    "img = np.zeros((512, 512, 3), np.uint8)\n",
    "img = cv2.circle(img, (477, 63), 63, (0, 0, 255), -1)\n",
    "cv2.imshow('rectangle', img)\n",
    "cv2.waitKey(0)\n",
    "cv2.destroyAllWindows()"
   ]
  },
  {
   "cell_type": "code",
   "execution_count": 4,
   "metadata": {
    "collapsed": true
   },
   "outputs": [],
   "source": [
    "import numpy as np\n",
    "import cv2\n",
    "img = np.zeros((512, 512, 3), np.uint8)\n",
    "img = cv2.ellipse(img, (256, 256), (100, 50), 0, 0, 180, 255, -1)\n",
    "cv2.imshow('rectangle', img)\n",
    "cv2.waitKey(0)\n",
    "cv2.destroyAllWindows()"
   ]
  },
  {
   "cell_type": "code",
   "execution_count": 7,
   "metadata": {
    "collapsed": false
   },
   "outputs": [],
   "source": [
    "import numpy as np\n",
    "import cv2\n",
    "img = np.zeros((512, 512, 3), np.uint8)\n",
    "pts = np.array([[10, 5], [20, 30], [70, 20], [50, 10]], np.int32)\n",
    "pts = pts.reshape((-1, 1, 2))\n",
    "img = cv2.polylines(img, [pts], True, (0, 255, 255))\n",
    "cv2.imshow('rectangle', img)\n",
    "cv2.waitKey(0)\n",
    "cv2.destroyAllWindows()"
   ]
  },
  {
   "cell_type": "code",
   "execution_count": 10,
   "metadata": {
    "collapsed": false
   },
   "outputs": [],
   "source": [
    "import numpy as np\n",
    "import cv2\n",
    "img = np.zeros((512, 512, 3), np.uint8)\n",
    "font = cv2.FONT_HERSHEY_SIMPLEX\n",
    "cv2.putText(img, 'OpenCV', (10, 500), font, 4, (255, 255, 255), 2, cv2.LINE_AA)\n",
    "cv2.imshow('rectangle', img)\n",
    "cv2.waitKey(0)\n",
    "cv2.destroyAllWindows()"
   ]
  },
  {
   "cell_type": "code",
   "execution_count": null,
   "metadata": {
    "collapsed": true
   },
   "outputs": [],
   "source": []
  }
 ],
 "metadata": {
  "kernelspec": {
   "display_name": "Python 2",
   "language": "python",
   "name": "python2"
  }
 },
 "nbformat": 4,
 "nbformat_minor": 2
}
